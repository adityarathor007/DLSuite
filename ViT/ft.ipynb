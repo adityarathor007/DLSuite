{
 "cells": [
  {
   "cell_type": "code",
   "execution_count": 1,
   "metadata": {},
   "outputs": [],
   "source": [
    "from sklearn.model_selection import train_test_split\n",
    "from datasets import load_dataset,DatasetDict\n",
    "from evaluate import load as load_metric\n",
    "import numpy as np\n",
    "import matplotlib.pyplot as plt\n",
    "\n"
   ]
  },
  {
   "cell_type": "code",
   "execution_count": 2,
   "metadata": {},
   "outputs": [],
   "source": [
    "dataset=load_dataset(\"cifar10\")"
   ]
  },
  {
   "cell_type": "code",
   "execution_count": 13,
   "metadata": {},
   "outputs": [
    {
     "data": {
      "image/png": "[encoded data removed]",
      "text/plain": [
       "<Figure size 100x100 with 1 Axes>"
      ]
     },
     "metadata": {},
     "output_type": "display_data"
    }
   ],
   "source": [
    "first_image = dataset['train'][100]['img']\n",
    "first_label = dataset['train'][100]['label']\n",
    "\n",
    "# Display the image\n",
    "plt.figure(figsize=(1, 1))  # 1 inch x 1 inch for 32x32 pixels\n",
    "plt.imshow(first_image)\n",
    "plt.title(f'Label: {first_label}')\n",
    "plt.axis('off')\n",
    "plt.show()\n"
   ]
  },
  {
   "cell_type": "code",
   "execution_count": 14,
   "metadata": {},
   "outputs": [
    {
     "name": "stdout",
     "output_type": "stream",
     "text": [
      "{'img': <PIL.PngImagePlugin.PngImageFile image mode=RGB size=32x32 at 0x75A9BCD6DEE0>, 'label': 6}\n"
     ]
    }
   ],
   "source": [
    "print(dataset['train'][1])"
   ]
  },
  {
   "cell_type": "code",
   "execution_count": 5,
   "metadata": {},
   "outputs": [],
   "source": [
    "ds=dataset['train'].train_test_split(test_size=0.3,stratify_by_column=\"label\")\n",
    "ds_test=dataset[\"test\"].train_test_split(test_size=0.5,stratify_by_column=\"label\")\n",
    "ds_train_reduced = ds[\"train\"].train_test_split(test_size=0.7, stratify_by_column=\"label\")[\"train\"]\n",
    "\n",
    "ds=DatasetDict({\n",
    "    'train':ds_train_reduced,\n",
    "    \"test\":ds_test[\"test\"],\n",
    "    \"valid\":ds_test[\"train\"]\n",
    "    \n",
    "})\n",
    "\n",
    "\n",
    "del ds_test"
   ]
  },
  {
   "cell_type": "code",
   "execution_count": 6,
   "metadata": {},
   "outputs": [
    {
     "name": "stdout",
     "output_type": "stream",
     "text": [
      "DatasetDict({\n",
      "    train: Dataset({\n",
      "        features: ['img', 'label'],\n",
      "        num_rows: 10500\n",
      "    })\n",
      "    test: Dataset({\n",
      "        features: ['img', 'label'],\n",
      "        num_rows: 5000\n",
      "    })\n",
      "    valid: Dataset({\n",
      "        features: ['img', 'label'],\n",
      "        num_rows: 5000\n",
      "    })\n",
      "})\n"
     ]
    },
    {
     "data": {
      "text/plain": [
       "{'train': (10500, 2), 'test': (5000, 2), 'valid': (5000, 2)}"
      ]
     },
     "execution_count": 6,
     "metadata": {},
     "output_type": "execute_result"
    }
   ],
   "source": [
    "print(ds)\n",
    "ds.shape"
   ]
  },
  {
   "cell_type": "code",
   "execution_count": 7,
   "metadata": {},
   "outputs": [
    {
     "data": {
      "text/plain": [
       "ClassLabel(names=['airplane', 'automobile', 'bird', 'cat', 'deer', 'dog', 'frog', 'horse', 'ship', 'truck'], id=None)"
      ]
     },
     "execution_count": 7,
     "metadata": {},
     "output_type": "execute_result"
    }
   ],
   "source": [
    "labels=ds[\"train\"].features['label']\n",
    "labels"
   ]
  },
  {
   "cell_type": "code",
   "execution_count": 8,
   "metadata": {},
   "outputs": [
    {
     "name": "stderr",
     "output_type": "stream",
     "text": [
      "Fast image processor class <class 'transformers.models.vit.image_processing_vit_fast.ViTImageProcessorFast'> is available for this model. Using slow image processor class. To use the fast image processor class set `use_fast=True`.\n",
      "Some weights of ViTForImageClassification were not initialized from the model checkpoint at google/vit-base-patch16-224-in21k and are newly initialized: ['classifier.bias', 'classifier.weight']\n",
      "You should probably TRAIN this model on a down-stream task to be able to use it for predictions and inference.\n"
     ]
    }
   ],
   "source": [
    "from transformers import AutoImageProcessor,ViTForImageClassification\n",
    "\n",
    "model_name_or_path='google/vit-base-patch16-224-in21k'\n",
    "\n",
    "processor=AutoImageProcessor.from_pretrained(model_name_or_path,use_fast=True)\n",
    "model=ViTForImageClassification.from_pretrained(\n",
    "    model_name_or_path,\n",
    "    num_labels=len(labels.names),\n",
    "    id2label={str(i): c for i, c in enumerate(labels.names)},\n",
    "    label2id={c:str(i) for i,c in enumerate(labels.names)},\n",
    "    ignore_mismatched_sizes=True\n",
    ")\n",
    "\n"
   ]
  },
  {
   "cell_type": "code",
   "execution_count": 9,
   "metadata": {},
   "outputs": [],
   "source": [
    "from PIL import Image\n",
    "import torchvision.transforms as transforms\n",
    "import torch\n",
    "import numpy as np\n",
    "\n",
    "def transform(example_batch):\n",
    "    transform = transforms.Resize((224, 224)) \n",
    "\n",
    "    resized_images = [transform(x.convert(\"RGB\")) for x in example_batch['img']]\n",
    "\n",
    "    inputs=processor(resized_images,return_tensors='pt')\n",
    "\n",
    "    inputs['label']=example_batch['label']\n",
    "\n",
    "    return inputs\n",
    "\n",
    "\n",
    "prepared_ds=ds.with_transform(transform)\n",
    "\n",
    "\n",
    "def collate_fn(batch):\n",
    "    return {\n",
    "        'pixel_values': torch.stack([x['pixel_values'] for x in batch]),\n",
    "        'labels': torch.tensor([x['label'] for x in batch])\n",
    "    }\n",
    "\n",
    "\n",
    "metric=load_metric(\"accuracy\")\n",
    "\n",
    "def compute_metrics(p):\n",
    "    return metric.compute(predictions=np.argmax(p.predictions, axis=1), references=p.label_ids)\n",
    "\n",
    "\n"
   ]
  },
  {
   "cell_type": "code",
   "execution_count": 10,
   "metadata": {},
   "outputs": [
    {
     "name": "stderr",
     "output_type": "stream",
     "text": [
      "/home/adi_techbuddy/anaconda3/envs/torchenv/lib/python3.8/site-packages/transformers/training_args.py:1545: FutureWarning: `evaluation_strategy` is deprecated and will be removed in version 4.46 of 🤗 Transformers. Use `eval_strategy` instead\n",
      "  warnings.warn(\n"
     ]
    }
   ],
   "source": [
    "from transformers import TrainingArguments\n",
    "\n",
    "root_dir = \"ViT_custom/\"  # Path where all config files and checkpoints will be saved\n",
    "training_args = TrainingArguments(\n",
    "  output_dir=root_dir,\n",
    "  per_device_train_batch_size=16,\n",
    "  evaluation_strategy=\"epoch\",\n",
    "  save_strategy=\"epoch\",\n",
    "  fp16=True,\n",
    "  num_train_epochs=1,\n",
    "  logging_steps=500,\n",
    "  learning_rate=2e-4,\n",
    "  save_total_limit=1,\n",
    "  remove_unused_columns=False,\n",
    "  push_to_hub=False,\n",
    "  report_to='tensorboard',\n",
    "  load_best_model_at_end=True,\n",
    ")"
   ]
  },
  {
   "cell_type": "code",
   "execution_count": 11,
   "metadata": {},
   "outputs": [
    {
     "name": "stdout",
     "output_type": "stream",
     "text": [
      "{'train': (10500, 2), 'test': (5000, 2), 'valid': (5000, 2)}\n"
     ]
    }
   ],
   "source": [
    "print(prepared_ds.shape)"
   ]
  },
  {
   "cell_type": "code",
   "execution_count": 12,
   "metadata": {},
   "outputs": [],
   "source": [
    "from transformers import Trainer\n",
    "\n",
    "trainer = Trainer(\n",
    "    model=model,\n",
    "    args=training_args,\n",
    "    data_collator=collate_fn,\n",
    "    compute_metrics=compute_metrics,\n",
    "    train_dataset=prepared_ds[\"train\"],\n",
    "    eval_dataset=prepared_ds[\"valid\"],\n",
    "    tokenizer=processor,\n",
    ")"
   ]
  },
  {
   "cell_type": "code",
   "execution_count": 13,
   "metadata": {},
   "outputs": [
    {
     "data": {
      "application/vnd.jupyter.widget-view+json": {
       "model_id": "6e8e3e45780840d3b4839f9227dd9b6a",
       "version_major": 2,
       "version_minor": 0
      },
      "text/plain": [
       "  0%|          | 0/657 [00:00<?, ?it/s]"
      ]
     },
     "metadata": {},
     "output_type": "display_data"
    },
    {
     "name": "stdout",
     "output_type": "stream",
     "text": [
      "{'loss': 0.3889, 'grad_norm': 5.049904823303223, 'learning_rate': 4.779299847792998e-05, 'epoch': 0.76}\n"
     ]
    },
    {
     "data": {
      "application/vnd.jupyter.widget-view+json": {
       "model_id": "d757ea16fc7a4160807aa947a3c05684",
       "version_major": 2,
       "version_minor": 0
      },
      "text/plain": [
       "  0%|          | 0/625 [00:00<?, ?it/s]"
      ]
     },
     "metadata": {},
     "output_type": "display_data"
    },
    {
     "name": "stdout",
     "output_type": "stream",
     "text": [
      "{'eval_loss': 0.11070407927036285, 'eval_accuracy': 0.974, 'eval_runtime': 668.1593, 'eval_samples_per_second': 7.483, 'eval_steps_per_second': 0.935, 'epoch': 1.0}\n",
      "{'train_runtime': 4671.2641, 'train_samples_per_second': 2.248, 'train_steps_per_second': 0.141, 'train_loss': 0.3257586596763297, 'epoch': 1.0}\n"
     ]
    }
   ],
   "source": [
    "save_dir = 'ViT_custom/best_model/'  # Define the path to save the model\n",
    "train_results = trainer.train()\n"
   ]
  },
  {
   "cell_type": "code",
   "execution_count": 14,
   "metadata": {},
   "outputs": [
    {
     "name": "stdout",
     "output_type": "stream",
     "text": [
      "***** train metrics *****\n",
      "  epoch                    =         1.0\n",
      "  total_flos               = 757839746GF\n",
      "  train_loss               =      0.3258\n",
      "  train_runtime            =  1:17:51.26\n",
      "  train_samples_per_second =       2.248\n",
      "  train_steps_per_second   =       0.141\n"
     ]
    }
   ],
   "source": [
    "trainer.save_model(save_dir)  # Save the best model\n",
    "trainer.log_metrics(\"train\", train_results.metrics)\n",
    "trainer.save_metrics(\"train\", train_results.metrics)\n",
    "trainer.save_state()"
   ]
  },
  {
   "cell_type": "code",
   "execution_count": 15,
   "metadata": {},
   "outputs": [
    {
     "name": "stdout",
     "output_type": "stream",
     "text": [
      "Total GPU memory: 3906.44 MB\n",
      "Allocated memory: 998.79 MB\n",
      "Free memory: 1529.21 MB\n"
     ]
    }
   ],
   "source": [
    "import torch\n",
    "\n",
    "# Get the total and available memory in MB\n",
    "total_memory = torch.cuda.get_device_properties(0).total_memory / 1024 ** 2  # Convert from bytes to MB\n",
    "allocated_memory = torch.cuda.memory_allocated(0) / 1024 ** 2\n",
    "free_memory = torch.cuda.memory_reserved(0) / 1024 ** 2 - allocated_memory\n",
    "\n",
    "print(f\"Total GPU memory: {total_memory:.2f} MB\")\n",
    "print(f\"Allocated memory: {allocated_memory:.2f} MB\")\n",
    "print(f\"Free memory: {free_memory:.2f} MB\")\n"
   ]
  },
  {
   "cell_type": "code",
   "execution_count": 16,
   "metadata": {},
   "outputs": [
    {
     "data": {
      "application/vnd.jupyter.widget-view+json": {
       "model_id": "7bf2d6123c254c67bcada6269bc38915",
       "version_major": 2,
       "version_minor": 0
      },
      "text/plain": [
       "  0%|          | 0/625 [00:00<?, ?it/s]"
      ]
     },
     "metadata": {},
     "output_type": "display_data"
    },
    {
     "name": "stdout",
     "output_type": "stream",
     "text": [
      "***** test metrics *****\n",
      "  epoch                   =        1.0\n",
      "  eval_accuracy           =     0.9714\n",
      "  eval_loss               =     0.1116\n",
      "  eval_runtime            = 0:10:49.39\n",
      "  eval_samples_per_second =        7.7\n",
      "  eval_steps_per_second   =      0.962\n"
     ]
    }
   ],
   "source": [
    "metrics = trainer.evaluate(prepared_ds['test'])\n",
    "trainer.log_metrics(\"test\", metrics)\n",
    "trainer.save_metrics(\"test\", metrics)"
   ]
  },
  {
   "cell_type": "code",
   "execution_count": 17,
   "metadata": {},
   "outputs": [
    {
     "data": {
      "application/vnd.jupyter.widget-view+json": {
       "model_id": "1bb6559e8da545b1a3838d05bbeed9ce",
       "version_major": 2,
       "version_minor": 0
      },
      "text/plain": [
       "  0%|          | 0/625 [00:00<?, ?it/s]"
      ]
     },
     "metadata": {},
     "output_type": "display_data"
    },
    {
     "name": "stdout",
     "output_type": "stream",
     "text": [
      "Recall for airplane: 0.98\n",
      "Recall for automobile: 0.99\n",
      "Recall for bird: 0.97\n",
      "Recall for cat: 0.95\n",
      "Recall for deer: 0.96\n",
      "Recall for dog: 0.95\n",
      "Recall for frog: 0.98\n",
      "Recall for horse: 0.98\n",
      "Recall for ship: 0.99\n",
      "Recall for truck: 0.97\n"
     ]
    },
    {
     "data": {
      "image/png": "[encoded data removed]",
      "text/plain": [
       "<Figure size 640x480 with 2 Axes>"
      ]
     },
     "metadata": {},
     "output_type": "display_data"
    }
   ],
   "source": [
    "from sklearn.metrics import confusion_matrix, ConfusionMatrixDisplay, recall_score\n",
    "\n",
    "test_ds = ds['test'].with_transform(transform)\n",
    "test_outputs = trainer.predict(test_ds)\n",
    "\n",
    "y_true = test_outputs.label_ids\n",
    "y_pred = test_outputs.predictions.argmax(1)\n",
    "\n",
    "labels = test_ds.features[\"label\"].names\n",
    "cm = confusion_matrix(y_true, y_pred)\n",
    "disp = ConfusionMatrixDisplay(confusion_matrix=cm, display_labels=labels)\n",
    "disp.plot(xticks_rotation=45)\n",
    "\n",
    "recall = recall_score(y_true, y_pred, average=None)\n",
    "\n",
    "# Print the recall for each class\n",
    "for label, score in zip(labels, recall):\n",
    "  print(f\"Recall for {label}: {score:.2f}\")"
   ]
  },
  {
   "cell_type": "code",
   "execution_count": 31,
   "metadata": {},
   "outputs": [],
   "source": [
    "from transformers import pipeline\n",
    "import cv2"
   ]
  },
  {
   "cell_type": "code",
   "execution_count": 40,
   "metadata": {},
   "outputs": [],
   "source": [
    "def getPrediction(image):\n",
    "    image = Image.fromarray(cv2.cvtColor(image, cv2.COLOR_BGR2RGB))\n",
    "    model_name_or_path = 'google/vit-base-patch16-224-in21k'\n",
    "    processor = AutoImageProcessor.from_pretrained(model_name_or_path,use_fast=True)\n",
    "    vit = ViTForImageClassification.from_pretrained(save_dir)\n",
    "    model = pipeline('image-classification', model=vit, feature_extractor=processor,device=0)\n",
    "    \n",
    "    result = model(image,top_k=1)\n",
    "    return result"
   ]
  },
  {
   "cell_type": "code",
   "execution_count": 3,
   "metadata": {},
   "outputs": [],
   "source": [
    "import cv2\n",
    "\n",
    "image = cv2.imread(\"sample/i1.png\")\n",
    "# print(getPrediction(image))"
   ]
  },
  {
   "cell_type": "code",
   "execution_count": 4,
   "metadata": {},
   "outputs": [
    {
     "name": "stdout",
     "output_type": "stream",
     "text": [
      "[[[182  88  42]\n",
      "  [183  89  43]\n",
      "  [184  92  45]\n",
      "  ...\n",
      "  [193  94  50]\n",
      "  [194  95  51]\n",
      "  [194  95  51]]\n",
      "\n",
      " [[183  89  43]\n",
      "  [183  89  43]\n",
      "  [183  91  44]\n",
      "  ...\n",
      "  [193  96  52]\n",
      "  [193  96  52]\n",
      "  [193  96  52]]\n",
      "\n",
      " [[183  87  41]\n",
      "  [181  87  41]\n",
      "  [180  88  41]\n",
      "  ...\n",
      "  [194  97  53]\n",
      "  [194  97  53]\n",
      "  [194  97  53]]\n",
      "\n",
      " ...\n",
      "\n",
      " [[204 170 140]\n",
      "  [205 171 142]\n",
      "  [204 171 145]\n",
      "  ...\n",
      "  [230 202 178]\n",
      "  [230 202 178]\n",
      "  [230 202 178]]\n",
      "\n",
      " [[204 170 140]\n",
      "  [205 171 141]\n",
      "  [204 172 143]\n",
      "  ...\n",
      "  [230 202 178]\n",
      "  [230 202 178]\n",
      "  [230 202 178]]\n",
      "\n",
      " [[206 170 140]\n",
      "  [204 170 140]\n",
      "  [204 172 143]\n",
      "  ...\n",
      "  [229 202 176]\n",
      "  [229 202 176]\n",
      "  [229 202 176]]]\n"
     ]
    }
   ],
   "source": [
    "print(image)"
   ]
  }
 ],
 "metadata": {
  "kernelspec": {
   "display_name": "torchenv",
   "language": "python",
   "name": "python3"
  },
  "language_info": {
   "codemirror_mode": {
    "name": "ipython",
    "version": 3
   },
   "file_extension": ".py",
   "mimetype": "text/x-python",
   "name": "python",
   "nbconvert_exporter": "python",
   "pygments_lexer": "ipython3",
   "version": "3.8.19"
  }
 },
 "nbformat": 4,
 "nbformat_minor": 2
}
