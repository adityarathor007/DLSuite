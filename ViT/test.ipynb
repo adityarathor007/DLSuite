{
 "cells": [
  {
   "cell_type": "code",
   "execution_count": 4,
   "metadata": {},
   "outputs": [
    {
     "name": "stdout",
     "output_type": "stream",
     "text": [
      "{'label': 'truck', 'score': 0.9952511787414551}\n"
     ]
    }
   ],
   "source": [
    "from transformers import AutoImageProcessor, ViTForImageClassification, pipeline\n",
    "from PIL import Image\n",
    "\n",
    "\n",
    "best_model_dir = \"ViT_custom/best_model\"\n",
    "\n",
    "\n",
    "processor = AutoImageProcessor.from_pretrained(best_model_dir)\n",
    "model = ViTForImageClassification.from_pretrained(best_model_dir)\n",
    "\n",
    "classifier = pipeline('image-classification', model=model, feature_extractor=processor, device=0) \n",
    "\n",
    "def getPrediction(image_path):\n",
    "\n",
    "    image = Image.open(image_path).convert(\"RGB\")\n",
    "    \n",
    "\n",
    "    result = classifier(image, top_k=1)\n",
    "    return result[0]  \n",
    "\n",
    "\n",
    "print(getPrediction(\"sample/i2.png\"))\n"
   ]
  }
 ],
 "metadata": {
  "kernelspec": {
   "display_name": "torchenv",
   "language": "python",
   "name": "python3"
  },
  "language_info": {
   "codemirror_mode": {
    "name": "ipython",
    "version": 3
   },
   "file_extension": ".py",
   "mimetype": "text/x-python",
   "name": "python",
   "nbconvert_exporter": "python",
   "pygments_lexer": "ipython3",
   "version": "3.8.19"
  }
 },
 "nbformat": 4,
 "nbformat_minor": 2
}
