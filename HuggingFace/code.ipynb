{
 "cells": [
  {
   "cell_type": "markdown",
   "metadata": {},
   "source": [
    "# To download all files of the HuggingFace repo"
   ]
  },
  {
   "cell_type": "code",
   "execution_count": null,
   "metadata": {},
   "outputs": [],
   "source": [
    "from huggingface_hub import snapshot_download\n",
    "\n",
    "\n",
    "repo_id = \"runwayml/stable-diffusion-v1-5\"  # Replace with the repo\n",
    "output_dir = \"path/to/save/files\"\n",
    "\n",
    "# Download all files\n",
    "snapshot_download(repo_id=repo_id, local_dir=output_dir)\n",
    "\n",
    "print(f\"All files from {repo_id} downloaded to {output_dir}\")\n"
   ]
  }
 ],
 "metadata": {
  "language_info": {
   "name": "python"
  }
 },
 "nbformat": 4,
 "nbformat_minor": 2
}
