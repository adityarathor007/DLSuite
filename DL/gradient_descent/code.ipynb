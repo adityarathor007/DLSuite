{
 "cells": [
  {
   "cell_type": "code",
   "execution_count": 18,
   "metadata": {},
   "outputs": [],
   "source": [
    "import pandas as pd\n",
    "import numpy as np\n",
    "import matplotlib.pyplot as plt\n"
   ]
  },
  {
   "cell_type": "code",
   "execution_count": 19,
   "metadata": {},
   "outputs": [
    {
     "data": {
      "text/html": [
       "<div>\n",
       "<style scoped>\n",
       "    .dataframe tbody tr th:only-of-type {\n",
       "        vertical-align: middle;\n",
       "    }\n",
       "\n",
       "    .dataframe tbody tr th {\n",
       "        vertical-align: top;\n",
       "    }\n",
       "\n",
       "    .dataframe thead th {\n",
       "        text-align: right;\n",
       "    }\n",
       "</style>\n",
       "<table border=\"1\" class=\"dataframe\">\n",
       "  <thead>\n",
       "    <tr style=\"text-align: right;\">\n",
       "      <th></th>\n",
       "      <th>area</th>\n",
       "      <th>bedrooms</th>\n",
       "      <th>price</th>\n",
       "    </tr>\n",
       "  </thead>\n",
       "  <tbody>\n",
       "    <tr>\n",
       "      <th>17</th>\n",
       "      <td>1540</td>\n",
       "      <td>3</td>\n",
       "      <td>60.0</td>\n",
       "    </tr>\n",
       "    <tr>\n",
       "      <th>12</th>\n",
       "      <td>1000</td>\n",
       "      <td>2</td>\n",
       "      <td>38.0</td>\n",
       "    </tr>\n",
       "    <tr>\n",
       "      <th>14</th>\n",
       "      <td>2250</td>\n",
       "      <td>3</td>\n",
       "      <td>101.0</td>\n",
       "    </tr>\n",
       "    <tr>\n",
       "      <th>10</th>\n",
       "      <td>1800</td>\n",
       "      <td>3</td>\n",
       "      <td>82.0</td>\n",
       "    </tr>\n",
       "    <tr>\n",
       "      <th>13</th>\n",
       "      <td>1100</td>\n",
       "      <td>2</td>\n",
       "      <td>40.0</td>\n",
       "    </tr>\n",
       "  </tbody>\n",
       "</table>\n",
       "</div>"
      ],
      "text/plain": [
       "    area  bedrooms  price\n",
       "17  1540         3   60.0\n",
       "12  1000         2   38.0\n",
       "14  2250         3  101.0\n",
       "10  1800         3   82.0\n",
       "13  1100         2   40.0"
      ]
     },
     "execution_count": 19,
     "metadata": {},
     "output_type": "execute_result"
    }
   ],
   "source": [
    "df=pd.read_csv('homeprices_banglore.csv')\n",
    "df.sample(5)\n"
   ]
  },
  {
   "cell_type": "code",
   "execution_count": 20,
   "metadata": {},
   "outputs": [
    {
     "data": {
      "text/plain": [
       "array([[0.05237037],\n",
       "       [0.65185185],\n",
       "       [0.22222222],\n",
       "       [0.31851852],\n",
       "       [0.14074074],\n",
       "       [0.04444444],\n",
       "       [0.76296296],\n",
       "       [0.91111111],\n",
       "       [0.13333333],\n",
       "       [1.        ],\n",
       "       [0.37037037],\n",
       "       [0.8       ],\n",
       "       [0.04444444],\n",
       "       [0.05925926],\n",
       "       [0.51111111],\n",
       "       [0.07407407],\n",
       "       [0.11851852],\n",
       "       [0.20740741],\n",
       "       [0.51851852],\n",
       "       [0.        ]])"
      ]
     },
     "execution_count": 20,
     "metadata": {},
     "output_type": "execute_result"
    }
   ],
   "source": [
    "from sklearn.preprocessing import MinMaxScaler\n",
    "\n",
    "sx=MinMaxScaler()\n",
    "sy=MinMaxScaler()\n",
    "\n",
    "scaled_X=sx.fit_transform(df.drop('price',axis='columns'))\n",
    "scaled_X\n",
    "\n",
    "scaled_y=sy.fit_transform(df['price'].values.reshape(df.shape[0],1))\n",
    "scaled_y"
   ]
  },
  {
   "cell_type": "code",
   "execution_count": 21,
   "metadata": {},
   "outputs": [
    {
     "data": {
      "text/plain": [
       "(array([0.70712464, 0.67456527]), -0.23034857438407427, 0.0068641890429808105)"
      ]
     },
     "execution_count": 21,
     "metadata": {},
     "output_type": "execute_result"
    }
   ],
   "source": [
    "cost_list=[]\n",
    "epoch_list=[]\n",
    "\n",
    "def batch_gradient_descent(X,y_true,epochs,learning_rate=0.01):\n",
    "    num_of_features=X.shape[1]\n",
    "\n",
    "    w=np.ones(shape=(num_of_features))\n",
    "    b=0\n",
    "    total_samples=X.shape[0]\n",
    "\n",
    "    for i in range(epochs):\n",
    "        y_predicted=np.dot(w,scaled_X.T)+b\n",
    "        w_grad=-(2/total_samples)*(X.T.dot(y_true-y_predicted))\n",
    "        b_grad=-(2/total_samples)*np.sum(y_true-y_predicted)\n",
    "        \n",
    "        w=w-learning_rate*w_grad\n",
    "        b=b-learning_rate*b_grad\n",
    "\n",
    "        cost=np.mean(np.square(y_true-y_predicted))\n",
    "\n",
    "        if i%10==0:\n",
    "            cost_list.append(cost)\n",
    "            epoch_list.append(i)\n",
    "\n",
    "    return w,b,cost,cost_list,epoch_list\n",
    "\n",
    "\n",
    "w,b,cost,cost_list,epoch_list=batch_gradient_descent(scaled_X,scaled_y.reshape(scaled_y.shape[0],),500)\n",
    "\n",
    "w,b,cost\n",
    "\n",
    "    "
   ]
  },
  {
   "cell_type": "code",
   "execution_count": 22,
   "metadata": {},
   "outputs": [
    {
     "data": {
      "text/plain": [
       "[<matplotlib.lines.Line2D at 0x7361a30e2d90>]"
      ]
     },
     "execution_count": 22,
     "metadata": {},
     "output_type": "execute_result"
    },
    {
     "data": {
      "image/png": "[encoded data removed]",
      "text/plain": [
       "<Figure size 640x480 with 1 Axes>"
      ]
     },
     "metadata": {},
     "output_type": "display_data"
    }
   ],
   "source": [
    "plt.xlabel('epoch')\n",
    "plt.ylabel('cost')\n",
    "plt.plot(epoch_list,cost_list)"
   ]
  },
  {
   "cell_type": "code",
   "execution_count": 30,
   "metadata": {},
   "outputs": [
    {
     "name": "stdout",
     "output_type": "stream",
     "text": [
      "79.35396924755915\n"
     ]
    },
    {
     "name": "stderr",
     "output_type": "stream",
     "text": [
      "/home/adi_techbuddy/anaconda3/envs/mycondaenv/lib/python3.11/site-packages/sklearn/base.py:464: UserWarning: X does not have valid feature names, but MinMaxScaler was fitted with feature names\n",
      "  warnings.warn(\n"
     ]
    }
   ],
   "source": [
    "# predicting value with the updated weights\n",
    "\n",
    "\n",
    "def predict(area,bedroom,w,b):\n",
    "    scaled_X = sx.transform([[area, bedroom]])[0]\n",
    "\n",
    "    scaled_price=w[0]*scaled_X[0]+w[1]*scaled_X[1]+b\n",
    "    \n",
    "    return sy.inverse_transform([[scaled_price]])[0][0]\n",
    "\n",
    "\n",
    "print(predict(1800,3,w,b))"
   ]
  },
  {
   "cell_type": "code",
   "execution_count": 44,
   "metadata": {},
   "outputs": [],
   "source": [
    "# Stochastic Gradient Descent\n",
    "\n",
    "def stochastic_gradient_descent(X,y_true,epochs,learning_rate=0.01):\n",
    "    num_of_features=X.shape[1]\n",
    "    w=np.ones(shape=(num_of_features))\n",
    "    b=0\n",
    "    total_samples=X.shape[0]\n",
    "\n",
    "    cost_list=[]\n",
    "    epoch_list=[]\n",
    "\n",
    "    for i in range(epochs):\n",
    "        random_index=np.random.randint(0,total_samples-1)\n",
    "        sample_x=X[random_index]\n",
    "        sample_y=y_true[random_index]\n",
    "        y_predicted=np.dot(w,sample_x.T)+b\n",
    "\n",
    "        w_grad=-(2/total_samples)*(sample_x.T.dot(sample_y-y_predicted))\n",
    "        b_grad=-(2/total_samples)*np.sum(sample_y-y_predicted)\n",
    "\n",
    "        w=w-learning_rate*w_grad    \n",
    "        b=b-learning_rate*b_grad\n",
    "\n",
    "        cost=np.mean(np.square(sample_y-y_predicted))\n",
    "\n",
    "        if i%10==0:\n",
    "            cost_list.append(cost)\n",
    "            epoch_list.append(i)\n",
    "\n",
    "    return w,b,cost,cost_list,epoch_list\n",
    "\n",
    "\n",
    "w_sgd,b_sgd,cost,cost_list_sgd,epoch_list_sgd=stochastic_gradient_descent(scaled_X,scaled_y.reshape(scaled_y.shape[0],),10000)\n",
    "\n",
    "        \n",
    "\n"
   ]
  },
  {
   "cell_type": "code",
   "execution_count": 45,
   "metadata": {},
   "outputs": [
    {
     "data": {
      "text/plain": [
       "[<matplotlib.lines.Line2D at 0x7361a2d20210>]"
      ]
     },
     "execution_count": 45,
     "metadata": {},
     "output_type": "execute_result"
    },
    {
     "data": {
      "image/png": "[encoded data removed]",
      "text/plain": [
       "<Figure size 640x480 with 1 Axes>"
      ]
     },
     "metadata": {},
     "output_type": "display_data"
    }
   ],
   "source": [
    "plt.xlabel('epoch')\n",
    "plt.ylabel('cost')\n",
    "plt.plot(epoch_list_sgd,cost_list_sgd)"
   ]
  },
  {
   "cell_type": "code",
   "execution_count": 46,
   "metadata": {},
   "outputs": [
    {
     "name": "stdout",
     "output_type": "stream",
     "text": [
      "77.86380617405298\n"
     ]
    },
    {
     "name": "stderr",
     "output_type": "stream",
     "text": [
      "/home/adi_techbuddy/anaconda3/envs/mycondaenv/lib/python3.11/site-packages/sklearn/base.py:464: UserWarning: X does not have valid feature names, but MinMaxScaler was fitted with feature names\n",
      "  warnings.warn(\n"
     ]
    }
   ],
   "source": [
    "print(predict(1800,3,w,b))"
   ]
  }
 ],
 "metadata": {
  "kernelspec": {
   "display_name": "mycondaenv",
   "language": "python",
   "name": "python3"
  },
  "language_info": {
   "codemirror_mode": {
    "name": "ipython",
    "version": 3
   },
   "file_extension": ".py",
   "mimetype": "text/x-python",
   "name": "python",
   "nbconvert_exporter": "python",
   "pygments_lexer": "ipython3",
   "version": "3.11.6"
  }
 },
 "nbformat": 4,
 "nbformat_minor": 2
}
