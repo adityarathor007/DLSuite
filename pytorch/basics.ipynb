{
 "cells": [
  {
   "cell_type": "code",
   "execution_count": null,
   "metadata": {},
   "outputs": [],
   "source": [
    "import torch"
   ]
  },
  {
   "cell_type": "markdown",
   "metadata": {},
   "source": [
    "## Tensor\n",
    "\n",
    "All deep learning is based on the computation of tensor, which are mathematical objects that describe linear relationships between sets of multidimensional data. They are a generalization of scalars, vectors, and matrices, which are all types of tensor\n",
    "\n",
    "3 things define the tensor:\n",
    "- Rank: tensor's number of axis\n",
    "- Shape: number of dimension along each axis (number of rows and columns in rank 2 tensor)\n",
    "- Data type"
   ]
  },
  {
   "cell_type": "code",
   "execution_count": 35,
   "metadata": {},
   "outputs": [
    {
     "name": "stdout",
     "output_type": "stream",
     "text": [
      "tensor([1, 2, 3, 4])\n",
      "tensor([[[1., 2.],\n",
      "         [3., 4.]],\n",
      "\n",
      "        [[5., 6.],\n",
      "         [7., 8.]]])\n"
     ]
    }
   ],
   "source": [
    "data_1=[1,2,3,4]\n",
    "\n",
    "V=torch.tensor(data_1)\n",
    "print(V)\n",
    "\n",
    "T_data = [[[1., 2.], [3., 4.]], \n",
    "          [[5., 6.], [7., 8.]]] \n",
    "T = torch.tensor(T_data) \n",
    "print(T)"
   ]
  },
  {
   "cell_type": "markdown",
   "metadata": {},
   "source": [
    "## Chunk"
   ]
  },
  {
   "cell_type": "code",
   "execution_count": 31,
   "metadata": {},
   "outputs": [
    {
     "name": "stdout",
     "output_type": "stream",
     "text": [
      "(tensor([0, 1]), tensor([2, 3]), tensor([4, 5]), tensor([6, 7]), tensor([8, 9]), tensor([10]))\n"
     ]
    }
   ],
   "source": [
    "x=torch.arange(11).chunk(6)\n",
    "print(x)"
   ]
  },
  {
   "cell_type": "markdown",
   "metadata": {},
   "source": [
    "## Broadcast"
   ]
  },
  {
   "cell_type": "code",
   "execution_count": 30,
   "metadata": {},
   "outputs": [
    {
     "name": "stdout",
     "output_type": "stream",
     "text": [
      "tensor([[0, 1],\n",
      "        [2, 3]])\n",
      "tensor([[0, 1]])\n",
      "After broadcasting\n",
      "tensor([[0, 1],\n",
      "        [2, 3]])\n",
      "tensor([[0, 1],\n",
      "        [0, 1]])\n"
     ]
    }
   ],
   "source": [
    "# used to make the dimension of both tensor same on the condition of having  \n",
    "x=torch.arange(4).view(2,2)\n",
    "y=torch.arange(2).view(1,2)\n",
    "\n",
    "print(x)\n",
    "print(y)\n",
    "\n",
    "a,b=torch.broadcast_tensors(x,y)\n",
    "\n",
    "print(\"After broadcasting\")\n",
    "\n",
    "print(a)\n",
    "print(b)\n",
    "\n",
    "\n"
   ]
  },
  {
   "cell_type": "code",
   "execution_count": null,
   "metadata": {},
   "outputs": [],
   "source": []
  }
 ],
 "metadata": {
  "kernelspec": {
   "display_name": "torchenv",
   "language": "python",
   "name": "python3"
  },
  "language_info": {
   "codemirror_mode": {
    "name": "ipython",
    "version": 3
   },
   "file_extension": ".py",
   "mimetype": "text/x-python",
   "name": "python",
   "nbconvert_exporter": "python",
   "pygments_lexer": "ipython3",
   "version": "3.10.15"
  }
 },
 "nbformat": 4,
 "nbformat_minor": 2
}
