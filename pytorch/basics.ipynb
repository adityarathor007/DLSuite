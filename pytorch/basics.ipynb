{
 "cells": [
  {
   "cell_type": "code",
   "execution_count": null,
   "metadata": {},
   "outputs": [],
   "source": [
    "import torch"
   ]
  },
  {
   "cell_type": "markdown",
   "metadata": {},
   "source": [
    "## Tensor\n",
    "\n",
    "All deep learning is based on the computation of tensor, which are mathematical objects that describe linear relationships between sets of multidimensional data. They are a generalization of scalars, vectors, and matrices, which are all types of tensor\n",
    "\n",
    "3 things define the tensor:\n",
    "- Rank: tensor's number of axis\n",
    "- Shape: number of dimension along each axis (number of rows and columns in rank 2 tensor)\n",
    "- Data type"
   ]
  },
  {
   "cell_type": "code",
   "execution_count": 35,
   "metadata": {},
   "outputs": [
    {
     "name": "stdout",
     "output_type": "stream",
     "text": [
      "tensor([1, 2, 3, 4])\n",
      "tensor([[[1., 2.],\n",
      "         [3., 4.]],\n",
      "\n",
      "        [[5., 6.],\n",
      "         [7., 8.]]])\n"
     ]
    }
   ],
   "source": [
    "data_1=[1,2,3,4]\n",
    "\n",
    "V=torch.tensor(data_1)\n",
    "print(V)\n",
    "\n",
    "T_data = [[[1., 2.], [3., 4.]], \n",
    "          [[5., 6.], [7., 8.]]] \n",
    "T = torch.tensor(T_data) \n",
    "print(T)"
   ]
  },
  {
   "cell_type": "markdown",
   "metadata": {},
   "source": [
    "## Chunk"
   ]
  },
  {
   "cell_type": "code",
   "execution_count": 31,
   "metadata": {},
   "outputs": [
    {
     "name": "stdout",
     "output_type": "stream",
     "text": [
      "(tensor([0, 1]), tensor([2, 3]), tensor([4, 5]), tensor([6, 7]), tensor([8, 9]), tensor([10]))\n"
     ]
    }
   ],
   "source": [
    "x=torch.arange(11).chunk(6)\n",
    "print(x)"
   ]
  },
  {
   "cell_type": "markdown",
   "metadata": {},
   "source": [
    "## Broadcast"
   ]
  },
  {
   "cell_type": "code",
   "execution_count": 30,
   "metadata": {},
   "outputs": [
    {
     "name": "stdout",
     "output_type": "stream",
     "text": [
      "tensor([[0, 1],\n",
      "        [2, 3]])\n",
      "tensor([[0, 1]])\n",
      "After broadcasting\n",
      "tensor([[0, 1],\n",
      "        [2, 3]])\n",
      "tensor([[0, 1],\n",
      "        [0, 1]])\n"
     ]
    }
   ],
   "source": [
    "# used to make the dimension of both tensor same on the condition of having  \n",
    "x=torch.arange(4).view(2,2)\n",
    "y=torch.arange(2).view(1,2)\n",
    "\n",
    "print(x)\n",
    "print(y)\n",
    "\n",
    "a,b=torch.broadcast_tensors(x,y)\n",
    "\n",
    "print(\"After broadcasting\")\n",
    "\n",
    "print(a)\n",
    "print(b)\n",
    "\n",
    "\n"
   ]
  },
  {
   "cell_type": "markdown",
   "metadata": {},
   "source": [
    "## Interpolate\n",
    "\n",
    "- Down/up samples the input.\n",
    "- Tensor interpolated to either the given size or the given scale_factor"
   ]
  },
  {
   "cell_type": "code",
   "execution_count": 3,
   "metadata": {},
   "outputs": [
    {
     "name": "stdout",
     "output_type": "stream",
     "text": [
      "torch.Size([1, 1, 256, 256])\n"
     ]
    }
   ],
   "source": [
    "import torch\n",
    "import torch.nn as nn\n",
    "\n",
    "image=torch.Tensor(512,512)\n",
    "interpolated_img=torch.nn.functional.interpolate(image.unsqueeze(0).unsqueeze(0).float(),size=(256,256),mode='nearest')\n",
    "print(interpolated_img.shape)\n",
    "\n"
   ]
  },
  {
   "cell_type": "markdown",
   "metadata": {},
   "source": [
    "## Numel\n",
    "returns the total number of elements in the input tensor"
   ]
  },
  {
   "cell_type": "code",
   "execution_count": 2,
   "metadata": {},
   "outputs": [
    {
     "name": "stdout",
     "output_type": "stream",
     "text": [
      "16\n",
      "120\n"
     ]
    }
   ],
   "source": [
    "import torch\n",
    "a = torch.zeros(4,4)\n",
    "print(torch.numel(a))\n",
    "\n",
    "b=torch.randn(1,2,3,4,5)\n",
    "print(torch.numel(b))"
   ]
  },
  {
   "cell_type": "markdown",
   "metadata": {},
   "source": [
    "## Get the any random sample from Dataloader"
   ]
  },
  {
   "cell_type": "code",
   "execution_count": null,
   "metadata": {},
   "outputs": [],
   "source": [
    "dataset=dataloader.dataset\n",
    "\n",
    "random_index=int(np.random.random()*len(dataset))\n",
    "single_example=dataset[random_index]"
   ]
  },
  {
   "cell_type": "markdown",
   "metadata": {},
   "source": [
    "## ToTransform\n",
    "Convert PIL Image or ndarray to tensor and scale them \n",
    "Detail: Converts PIL image or numpy.ndarray(H,W,C) in range [0,255] to a torch.FloatTensor of shape (C,H,W) in the range [0.0,1.0] "
   ]
  },
  {
   "cell_type": "code",
   "execution_count": null,
   "metadata": {},
   "outputs": [],
   "source": []
  },
  {
   "cell_type": "markdown",
   "metadata": {},
   "source": [
    "# LinSpace"
   ]
  },
  {
   "cell_type": "code",
   "execution_count": 1,
   "metadata": {},
   "outputs": [
    {
     "name": "stdout",
     "output_type": "stream",
     "text": [
      "tensor([1.0000e-04, 3.0101e-04, 5.0202e-04, 7.0303e-04, 9.0404e-04, 1.1051e-03,\n",
      "        1.3061e-03, 1.5071e-03, 1.7081e-03, 1.9091e-03, 2.1101e-03, 2.3111e-03,\n",
      "        2.5121e-03, 2.7131e-03, 2.9141e-03, 3.1152e-03, 3.3162e-03, 3.5172e-03,\n",
      "        3.7182e-03, 3.9192e-03, 4.1202e-03, 4.3212e-03, 4.5222e-03, 4.7232e-03,\n",
      "        4.9242e-03, 5.1253e-03, 5.3263e-03, 5.5273e-03, 5.7283e-03, 5.9293e-03,\n",
      "        6.1303e-03, 6.3313e-03, 6.5323e-03, 6.7333e-03, 6.9343e-03, 7.1354e-03,\n",
      "        7.3364e-03, 7.5374e-03, 7.7384e-03, 7.9394e-03, 8.1404e-03, 8.3414e-03,\n",
      "        8.5424e-03, 8.7434e-03, 8.9444e-03, 9.1455e-03, 9.3465e-03, 9.5475e-03,\n",
      "        9.7485e-03, 9.9495e-03, 1.0151e-02, 1.0352e-02, 1.0553e-02, 1.0754e-02,\n",
      "        1.0955e-02, 1.1156e-02, 1.1357e-02, 1.1558e-02, 1.1759e-02, 1.1960e-02,\n",
      "        1.2161e-02, 1.2362e-02, 1.2563e-02, 1.2764e-02, 1.2965e-02, 1.3166e-02,\n",
      "        1.3367e-02, 1.3568e-02, 1.3769e-02, 1.3970e-02, 1.4171e-02, 1.4372e-02,\n",
      "        1.4573e-02, 1.4774e-02, 1.4975e-02, 1.5176e-02, 1.5377e-02, 1.5578e-02,\n",
      "        1.5779e-02, 1.5980e-02, 1.6181e-02, 1.6382e-02, 1.6583e-02, 1.6784e-02,\n",
      "        1.6985e-02, 1.7186e-02, 1.7387e-02, 1.7588e-02, 1.7789e-02, 1.7990e-02,\n",
      "        1.8191e-02, 1.8392e-02, 1.8593e-02, 1.8794e-02, 1.8995e-02, 1.9196e-02,\n",
      "        1.9397e-02, 1.9598e-02, 1.9799e-02, 2.0000e-02])\n"
     ]
    }
   ],
   "source": [
    "import torch\n",
    "\n",
    "values=torch.linspace(0.0001,0.02,100)\n",
    "print(values)"
   ]
  },
  {
   "cell_type": "markdown",
   "metadata": {},
   "source": [
    "# CumProd"
   ]
  },
  {
   "cell_type": "code",
   "execution_count": 2,
   "metadata": {},
   "outputs": [
    {
     "name": "stdout",
     "output_type": "stream",
     "text": [
      "tensor([1.0000e-04, 3.0101e-08, 1.5111e-11, 1.0624e-14, 9.6043e-18, 1.0613e-20,\n",
      "        1.3861e-23, 2.0890e-26, 3.5682e-29, 6.8121e-32, 1.4374e-34, 3.3220e-37,\n",
      "        8.3453e-40, 2.2645e-42, 7.0065e-45, 0.0000e+00, 0.0000e+00, 0.0000e+00,\n",
      "        0.0000e+00, 0.0000e+00, 0.0000e+00, 0.0000e+00, 0.0000e+00, 0.0000e+00,\n",
      "        0.0000e+00, 0.0000e+00, 0.0000e+00, 0.0000e+00, 0.0000e+00, 0.0000e+00,\n",
      "        0.0000e+00, 0.0000e+00, 0.0000e+00, 0.0000e+00, 0.0000e+00, 0.0000e+00,\n",
      "        0.0000e+00, 0.0000e+00, 0.0000e+00, 0.0000e+00, 0.0000e+00, 0.0000e+00,\n",
      "        0.0000e+00, 0.0000e+00, 0.0000e+00, 0.0000e+00, 0.0000e+00, 0.0000e+00,\n",
      "        0.0000e+00, 0.0000e+00, 0.0000e+00, 0.0000e+00, 0.0000e+00, 0.0000e+00,\n",
      "        0.0000e+00, 0.0000e+00, 0.0000e+00, 0.0000e+00, 0.0000e+00, 0.0000e+00,\n",
      "        0.0000e+00, 0.0000e+00, 0.0000e+00, 0.0000e+00, 0.0000e+00, 0.0000e+00,\n",
      "        0.0000e+00, 0.0000e+00, 0.0000e+00, 0.0000e+00, 0.0000e+00, 0.0000e+00,\n",
      "        0.0000e+00, 0.0000e+00, 0.0000e+00, 0.0000e+00, 0.0000e+00, 0.0000e+00,\n",
      "        0.0000e+00, 0.0000e+00, 0.0000e+00, 0.0000e+00, 0.0000e+00, 0.0000e+00,\n",
      "        0.0000e+00, 0.0000e+00, 0.0000e+00, 0.0000e+00, 0.0000e+00, 0.0000e+00,\n",
      "        0.0000e+00, 0.0000e+00, 0.0000e+00, 0.0000e+00, 0.0000e+00, 0.0000e+00,\n",
      "        0.0000e+00, 0.0000e+00, 0.0000e+00, 0.0000e+00])\n"
     ]
    }
   ],
   "source": [
    "cum_prod=torch.cumprod(values,dim=0)\n",
    "print(cum_prod)"
   ]
  },
  {
   "cell_type": "markdown",
   "metadata": {},
   "source": [
    "# nn.Linear\n",
    "nn.Linear is a fully connected (dense) layer that applies a learnable linear transformation to input vectors."
   ]
  },
  {
   "cell_type": "code",
   "execution_count": 7,
   "metadata": {},
   "outputs": [
    {
     "name": "stdout",
     "output_type": "stream",
     "text": [
      "torch.Size([3, 2])\n"
     ]
    }
   ],
   "source": [
    "linear_layer = nn.Linear(in_features=4, out_features=2)  # 4D input → 2D output\n",
    "\n",
    "input_vector = torch.randn(3, 4)  # 3 samples, each with 4 features\n",
    "output_vector = linear_layer(input_vector)\n",
    "\n",
    "print(output_vector.shape)  # Output: (3, 2) → 3 samples, each mapped to 2D"
   ]
  },
  {
   "cell_type": "markdown",
   "metadata": {},
   "source": [
    "## nn.Embedding\n",
    "\n",
    "nn.Embedding is a lookup table for storing and retrieving fixed-size vector representations of discrete entities"
   ]
  },
  {
   "cell_type": "code",
   "execution_count": 6,
   "metadata": {},
   "outputs": [
    {
     "name": "stdout",
     "output_type": "stream",
     "text": [
      "torch.Size([3, 4])\n",
      "tensor([[-0.1559, -0.9301, -0.2506,  1.7809],\n",
      "        [-0.9165,  1.7546,  1.0814,  0.9636],\n",
      "        [-0.2993, -1.3693,  1.8700, -1.3098]], grad_fn=<EmbeddingBackward0>)\n"
     ]
    }
   ],
   "source": [
    "import torch\n",
    "import torch.nn as nn\n",
    "\n",
    "embedding_layer = nn.Embedding(num_embeddings=10, embedding_dim=4)\n",
    "\n",
    "input_indices = torch.tensor([1, 3, 7])  # Each number corresponds to a row in the embedding table\n",
    "\n",
    "output_vectors = embedding_layer(input_indices)\n",
    "\n",
    "print(output_vectors.shape)  # Output: (3, 4) → 3 indices mapped to 4D vectors\n",
    "print(output_vectors)"
   ]
  }
 ],
 "metadata": {
  "kernelspec": {
   "display_name": "torchenv",
   "language": "python",
   "name": "python3"
  },
  "language_info": {
   "codemirror_mode": {
    "name": "ipython",
    "version": 3
   },
   "file_extension": ".py",
   "mimetype": "text/x-python",
   "name": "python",
   "nbconvert_exporter": "python",
   "pygments_lexer": "ipython3",
   "version": "3.8.19"
  }
 },
 "nbformat": 4,
 "nbformat_minor": 2
}
