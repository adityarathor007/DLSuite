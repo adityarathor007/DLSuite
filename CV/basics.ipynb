{
 "cells": [
  {
   "cell_type": "markdown",
   "metadata": {},
   "source": [
    "# Convolution"
   ]
  },
  {
   "cell_type": "code",
   "execution_count": 15,
   "metadata": {},
   "outputs": [
    {
     "name": "stdout",
     "output_type": "stream",
     "text": [
      "[1 0 1 8]\n",
      "[1 0 1 8]\n",
      "[-1  0 -1 -8]\n",
      "[-8 -1  0 -1]\n"
     ]
    }
   ],
   "source": [
    "import numpy as np\n",
    "\n",
    "\n",
    "F = np.array([1, 0, -1])\n",
    "H = np.array([3, 1, 4, 1, 5, 9])\n",
    "\n",
    "con1 = np.convolve(H, F, mode='valid') #here first the value of the filter will be reversed and then applied\n",
    "\n",
    "#valid: Only where the filter fully overlaps with the signal, resulting in a shorter output.\n",
    "# full: Convolution computed at every possible position, even at the boundaries, producing a longer output. (like for a filter with size 3 then two 0 are added on both side)\n",
    "# same: Output is the same size as the input, padding with zeros where necessary.(here just 2 zero will be added at the end for 3 size filter)\n",
    "\n",
    "print(con1)\n",
    "\n",
    "con2=np.convolve(F,H,mode='valid')\n",
    "\n",
    "print(con2) #convlution is commutative so value same\n",
    "\n",
    "cor1=np.correlate(H,F,mode='valid')\n",
    "\n",
    "print(cor1)\n",
    "\n",
    "cor2=np.correlate(F,H,mode='valid')\n",
    "\n",
    "print(cor2)  #correlation is not commutative\n",
    "\n",
    "\n"
   ]
  }
 ],
 "metadata": {
  "kernelspec": {
   "display_name": "Python 3",
   "language": "python",
   "name": "python3"
  },
  "language_info": {
   "codemirror_mode": {
    "name": "ipython",
    "version": 3
   },
   "file_extension": ".py",
   "mimetype": "text/x-python",
   "name": "python",
   "nbconvert_exporter": "python",
   "pygments_lexer": "ipython3",
   "version": "3.8.19"
  }
 },
 "nbformat": 4,
 "nbformat_minor": 2
}
