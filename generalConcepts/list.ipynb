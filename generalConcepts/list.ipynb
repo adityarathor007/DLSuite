{
 "cells": [
  {
   "cell_type": "code",
   "execution_count": 2,
   "metadata": {},
   "outputs": [
    {
     "name": "stdout",
     "output_type": "stream",
     "text": [
      "[2]\n",
      "4\n",
      "4\n",
      "[2]\n"
     ]
    }
   ],
   "source": [
    "list=[]\n",
    "\n",
    "list.append(2) #adding in a list\n",
    "print(list)\n",
    "\n",
    "\n",
    "list.append(4)\n",
    "print(list[-1])\n",
    "\n",
    "\n",
    "# pop removes the last element from the list\n",
    "num=list.pop()\n",
    "print(num)\n",
    "print(list)\n"
   ]
  }
 ],
 "metadata": {
  "kernelspec": {
   "display_name": "myenv",
   "language": "python",
   "name": "python3"
  },
  "language_info": {
   "codemirror_mode": {
    "name": "ipython",
    "version": 3
   },
   "file_extension": ".py",
   "mimetype": "text/x-python",
   "name": "python",
   "nbconvert_exporter": "python",
   "pygments_lexer": "ipython3",
   "version": "3.10.14"
  }
 },
 "nbformat": 4,
 "nbformat_minor": 2
}
