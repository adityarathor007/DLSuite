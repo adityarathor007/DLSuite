{
 "cells": [
  {
   "cell_type": "markdown",
   "metadata": {},
   "source": [
    "## Abstract Class\n",
    "\n",
    "It forces its subclasses to implement all of its abstract method. Its a class that represents what its subclass will look like"
   ]
  },
  {
   "cell_type": "code",
   "execution_count": 2,
   "metadata": {},
   "outputs": [],
   "source": [
    "from abc import ABC,abstractmethod"
   ]
  },
  {
   "cell_type": "code",
   "execution_count": 8,
   "metadata": {},
   "outputs": [],
   "source": [
    "class CarManufacturer(ABC):\n",
    "    @property\n",
    "    def car_name(self):\n",
    "        return self._name  #'_' at starting represents that this attribute is meant to be treated as internal detail\n",
    "    \n",
    "    @car_name.setter\n",
    "    def car_name(self,car):\n",
    "        if car in self.cars:\n",
    "            self._name=car\n",
    "        else:\n",
    "            raise ValueError(f\"The car name {car} doesnt exists for this manufacturer\")\n",
    "    \n",
    "    @property\n",
    "    @abstractmethod  #this below method is to implemented by whichever class inherits this class else it will give error\n",
    "    def cars(self):\n",
    "        pass\n",
    "\n",
    "    @abstractmethod\n",
    "    def originCountry(self,country):\n",
    "        pass\n",
    "\n",
    "\n",
    "class Lamborghini(CarManufacturer):  #by making carManufacturer as abstract clas every class inherits it will have to implement the abstract method\n",
    "    @property\n",
    "    def cars(self):\n",
    "        return ['Aventador','Huracan','Urus']\n",
    "\n",
    "    def originCountry(self,country):\n",
    "        print(f\"This brand has its origin in {country} and one of its car is {self._name}\")\n",
    "\n",
    "\n",
    "class Ferrari(CarManufacturer):\n",
    "    @property\n",
    "    def cars(self):\n",
    "        return ['Roma','Purosangue','Portofino']\n",
    "\n",
    "    def originCountry(self,country):\n",
    "        print(f\"This brand has its origin in {country} and one of its car is {self._name}\")\n",
    "    \n",
    "class Mclaren(CarManufacturer):\n",
    "    @property\n",
    "    def cars(self):\n",
    "        return ['720s','SennaGtr','SpeedTail']\n",
    "    \n",
    "    def originCountry(self,country):\n",
    "        print(f\"This brand has its origin in {country} and one of its car is {self._name}\")\n",
    "\n",
    "\n",
    "\n",
    "\n",
    "\n",
    "\n",
    "    "
   ]
  },
  {
   "cell_type": "code",
   "execution_count": null,
   "metadata": {},
   "outputs": [
    {
     "name": "stdout",
     "output_type": "stream",
     "text": [
      "This brand has its origin in Italy and one of its car is Huracan\n"
     ]
    },
    {
     "ename": "ValueError",
     "evalue": "The car name Phantom doesnt exists for this manufacturer",
     "output_type": "error",
     "traceback": [
      "\u001b[0;31m---------------------------------------------------------------------------\u001b[0m",
      "\u001b[0;31mValueError\u001b[0m                                Traceback (most recent call last)",
      "Cell \u001b[0;32mIn[10], line 6\u001b[0m\n\u001b[1;32m      3\u001b[0m c1\u001b[38;5;241m.\u001b[39moriginCountry(\u001b[38;5;124m\"\u001b[39m\u001b[38;5;124mItaly\u001b[39m\u001b[38;5;124m\"\u001b[39m)\n\u001b[1;32m      5\u001b[0m c1\u001b[38;5;241m=\u001b[39mFerrari()\n\u001b[0;32m----> 6\u001b[0m \u001b[43mc1\u001b[49m\u001b[38;5;241;43m.\u001b[39;49m\u001b[43mcar_name\u001b[49m\u001b[38;5;241m=\u001b[39m\u001b[38;5;124m\"\u001b[39m\u001b[38;5;124mPhantom\u001b[39m\u001b[38;5;124m\"\u001b[39m\n",
      "Cell \u001b[0;32mIn[8], line 11\u001b[0m, in \u001b[0;36mCarManufacturer.car_name\u001b[0;34m(self, car)\u001b[0m\n\u001b[1;32m      9\u001b[0m     \u001b[38;5;28mself\u001b[39m\u001b[38;5;241m.\u001b[39m_name\u001b[38;5;241m=\u001b[39mcar\n\u001b[1;32m     10\u001b[0m \u001b[38;5;28;01melse\u001b[39;00m:\n\u001b[0;32m---> 11\u001b[0m     \u001b[38;5;28;01mraise\u001b[39;00m \u001b[38;5;167;01mValueError\u001b[39;00m(\u001b[38;5;124mf\u001b[39m\u001b[38;5;124m\"\u001b[39m\u001b[38;5;124mThe car name \u001b[39m\u001b[38;5;132;01m{\u001b[39;00mcar\u001b[38;5;132;01m}\u001b[39;00m\u001b[38;5;124m doesnt exists for this manufacturer\u001b[39m\u001b[38;5;124m\"\u001b[39m)\n",
      "\u001b[0;31mValueError\u001b[0m: The car name Phantom doesnt exists for this manufacturer"
     ]
    }
   ],
   "source": [
    "c1=Lamborghini()\n",
    "c1.car_name=\"Huracan\"\n",
    "c1.originCountry(\"Italy\")\n",
    "\n",
    "c1=Ferrari()\n",
    "c1.car_name=\"Phantom\" # this will raise value error"
   ]
  },
  {
   "cell_type": "code",
   "execution_count": null,
   "metadata": {},
   "outputs": [],
   "source": []
  }
 ],
 "metadata": {
  "kernelspec": {
   "display_name": "torchenv",
   "language": "python",
   "name": "python3"
  },
  "language_info": {
   "codemirror_mode": {
    "name": "ipython",
    "version": 3
   },
   "file_extension": ".py",
   "mimetype": "text/x-python",
   "name": "python",
   "nbconvert_exporter": "python",
   "pygments_lexer": "ipython3",
   "version": "3.10.15"
  }
 },
 "nbformat": 4,
 "nbformat_minor": 2
}
