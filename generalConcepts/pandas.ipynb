{
 "cells": [
  {
   "cell_type": "code",
   "execution_count": 2,
   "metadata": {},
   "outputs": [],
   "source": [
    "import pandas as pd"
   ]
  },
  {
   "cell_type": "markdown",
   "metadata": {},
   "source": [
    "## Selecting row based on some criteria"
   ]
  },
  {
   "cell_type": "code",
   "execution_count": null,
   "metadata": {},
   "outputs": [],
   "source": [
    "import pandas as pd\n",
    "data = {'Name': ['Alice', 'Bob', 'Charlie'], 'Age': [25, 30, 35], 'City': ['NY', 'LA', 'SF']}\n",
    "df = pd.DataFrame(data)\n",
    "# Select rows where City is 'NY'\n",
    "ny_rows = df[df['City'] == 'NY']\n",
    "print(ny_rows['Age'].values[0])"
   ]
  },
  {
   "cell_type": "code",
   "execution_count": 2,
   "metadata": {},
   "outputs": [
    {
     "name": "stdout",
     "output_type": "stream",
     "text": [
      "GPU Device: PhysicalDevice(name='/physical_device:GPU:0', device_type='GPU')\n"
     ]
    },
    {
     "name": "stderr",
     "output_type": "stream",
     "text": [
      "2025-03-28 11:17:16.690154: I tensorflow/stream_executor/cuda/cuda_gpu_executor.cc:980] successful NUMA node read from SysFS had negative value (-1), but there must be at least one NUMA node, so returning NUMA node zero\n",
      "2025-03-28 11:17:16.811258: I tensorflow/stream_executor/cuda/cuda_gpu_executor.cc:980] successful NUMA node read from SysFS had negative value (-1), but there must be at least one NUMA node, so returning NUMA node zero\n",
      "2025-03-28 11:17:16.811529: I tensorflow/stream_executor/cuda/cuda_gpu_executor.cc:980] successful NUMA node read from SysFS had negative value (-1), but there must be at least one NUMA node, so returning NUMA node zero\n"
     ]
    }
   ],
   "source": [
    "import tensorflow as tf\n",
    "\n",
    "for gpu in tf.config.list_physical_devices('GPU'):\n",
    "    print(\"GPU Device:\", gpu)"
   ]
  },
  {
   "cell_type": "markdown",
   "metadata": {},
   "source": [
    "## Count isna for columns"
   ]
  },
  {
   "cell_type": "code",
   "execution_count": null,
   "metadata": {},
   "outputs": [],
   "source": [
    "df.isna().sum()\n",
    "\n",
    "\n",
    "# delete those columns \n",
    "df.dropna()"
   ]
  },
  {
   "cell_type": "markdown",
   "metadata": {},
   "source": [
    "## unique"
   ]
  },
  {
   "cell_type": "code",
   "execution_count": 15,
   "metadata": {},
   "outputs": [
    {
     "name": "stdout",
     "output_type": "stream",
     "text": [
      "[1, 2, 3, 6, 8]\n"
     ]
    }
   ],
   "source": [
    "df=pd.DataFrame({'A':[1,1,3,2,6,2,8]})\n",
    "a=df['A'].unique()\n",
    "print(sorted(a))"
   ]
  },
  {
   "cell_type": "markdown",
   "metadata": {},
   "source": [
    "## loc vs iloc\n",
    "\n",
    "- loc gets rows (and/or columns) with a particular labels\n",
    "- iloc gets rows (and/or columns) at integer locations\n",
    "\n"
   ]
  },
  {
   "cell_type": "code",
   "execution_count": 13,
   "metadata": {},
   "outputs": [
    {
     "name": "stdout",
     "output_type": "stream",
     "text": [
      "49    a\n",
      "48    b\n",
      "47    c\n",
      "0     d\n",
      "1     e\n",
      "2     f\n",
      "dtype: object\n"
     ]
    }
   ],
   "source": [
    "s=pd.Series(list(\"abcdef\"),index=[49,48,47,0,1,2])\n",
    "print(s.head(6))\n"
   ]
  },
  {
   "cell_type": "code",
   "execution_count": 12,
   "metadata": {},
   "outputs": [
    {
     "name": "stdout",
     "output_type": "stream",
     "text": [
      "f\n",
      "a\n"
     ]
    }
   ],
   "source": [
    "print(s.loc[2]) #value \n",
    "\n",
    "print(s.iloc[0]) #gets the value at index location 0"
   ]
  },
  {
   "cell_type": "markdown",
   "metadata": {},
   "source": [
    "## explode\n",
    "convert each element of the specified column(s) into row"
   ]
  },
  {
   "cell_type": "code",
   "execution_count": 7,
   "metadata": {},
   "outputs": [
    {
     "data": {
      "text/html": [
       "<div>\n",
       "<style scoped>\n",
       "    .dataframe tbody tr th:only-of-type {\n",
       "        vertical-align: middle;\n",
       "    }\n",
       "\n",
       "    .dataframe tbody tr th {\n",
       "        vertical-align: top;\n",
       "    }\n",
       "\n",
       "    .dataframe thead th {\n",
       "        text-align: right;\n",
       "    }\n",
       "</style>\n",
       "<table border=\"1\" class=\"dataframe\">\n",
       "  <thead>\n",
       "    <tr style=\"text-align: right;\">\n",
       "      <th></th>\n",
       "      <th>Brand</th>\n",
       "      <th>Model</th>\n",
       "      <th>Type</th>\n",
       "    </tr>\n",
       "  </thead>\n",
       "  <tbody>\n",
       "    <tr>\n",
       "      <th>0</th>\n",
       "      <td>Ford</td>\n",
       "      <td>Sierra</td>\n",
       "      <td>2.0GL</td>\n",
       "    </tr>\n",
       "    <tr>\n",
       "      <th>1</th>\n",
       "      <td>Ford</td>\n",
       "      <td>F-150</td>\n",
       "      <td>Raptor</td>\n",
       "    </tr>\n",
       "    <tr>\n",
       "      <th>2</th>\n",
       "      <td>Ford</td>\n",
       "      <td>Mustang</td>\n",
       "      <td>Mach-E</td>\n",
       "    </tr>\n",
       "    <tr>\n",
       "      <th>2</th>\n",
       "      <td>Ford</td>\n",
       "      <td>Mustang</td>\n",
       "      <td>Mach-1</td>\n",
       "    </tr>\n",
       "  </tbody>\n",
       "</table>\n",
       "</div>"
      ],
      "text/plain": [
       "  Brand    Model    Type\n",
       "0  Ford   Sierra   2.0GL\n",
       "1  Ford    F-150  Raptor\n",
       "2  Ford  Mustang  Mach-E\n",
       "2  Ford  Mustang  Mach-1"
      ]
     },
     "execution_count": 7,
     "metadata": {},
     "output_type": "execute_result"
    }
   ],
   "source": [
    "\n",
    "data={\n",
    "    \"Brand\": [\"Ford\",\"Ford\",\"Ford\"],\n",
    "    \"Model\": [\"Sierra\",\"F-150\",\"Mustang\"],\n",
    "    \"Type\": [\"2.0GL\",\"Raptor\",[\"Mach-E\",\"Mach-1\"]]\n",
    "}\n",
    "\n",
    "df=pd.DataFrame(data)\n",
    "new_df=df.explode(\"Type\")  #turn every element in the 'Type' column into a row\n",
    "\n",
    "new_df.head()"
   ]
  },
  {
   "cell_type": "markdown",
   "metadata": {},
   "source": [
    "## apply\n",
    "allows to apply a fucntion along one of the axis of the Df, default 0 i.e index(row) axis"
   ]
  },
  {
   "cell_type": "code",
   "execution_count": 8,
   "metadata": {},
   "outputs": [
    {
     "name": "stdout",
     "output_type": "stream",
     "text": [
      "x    120\n",
      "y    435\n",
      "dtype: int64\n"
     ]
    }
   ],
   "source": [
    "def calc_sum(x):\n",
    "    return x.sum()\n",
    "\n",
    "data={\n",
    "    \"x\":[50,40,30],\n",
    "    \"y\":[300,112,23]\n",
    "}\n",
    "\n",
    "df=pd.DataFrame(data)\n",
    "x=df.apply(calc_sum)\n",
    "\n",
    "\n",
    "print(x)"
   ]
  },
  {
   "cell_type": "markdown",
   "metadata": {},
   "source": [
    "## reset_index\n",
    "used to reset the index of a DataFrame to the default integer-based index. This is especially useful when you've performed operations like groupby() or pivot_table(), which result in a DataFrame with a multi-level index.\n",
    "\n",
    "Usefull as it easier to access and use the columns in plotting functions."
   ]
  },
  {
   "cell_type": "code",
   "execution_count": 1,
   "metadata": {},
   "outputs": [
    {
     "name": "stdout",
     "output_type": "stream",
     "text": [
      "Before reset_index():\n",
      "Pclass  Sex     Survived\n",
      "1       female  1           1\n",
      "        male    1           1\n",
      "2       female  0           1\n",
      "3       female  1           1\n",
      "        male    0           1\n",
      "dtype: int64\n",
      "\n",
      "After reset_index():\n",
      "   Pclass     Sex  Survived  0\n",
      "0       1  female         1  1\n",
      "1       1    male         1  1\n",
      "2       2  female         0  1\n",
      "3       3  female         1  1\n",
      "4       3    male         0  1\n"
     ]
    }
   ],
   "source": [
    "import pandas as pd\n",
    "\n",
    "# Sample DataFrame\n",
    "data = {'Pclass': [1, 2, 1, 3, 3],\n",
    "        'Sex': ['male', 'female', 'female', 'male', 'female'],\n",
    "        'Survived': [1, 0, 1, 0, 1]}\n",
    "\n",
    "df = pd.DataFrame(data)\n",
    "\n",
    "# Group by Pclass and Sex, and aggregate by survival count\n",
    "grouped_data = df.groupby(['Pclass', 'Sex', 'Survived']).size()\n",
    "\n",
    "print(\"Before reset_index():\")\n",
    "print(grouped_data)\n",
    "\n",
    "# Reset the index\n",
    "reset_data = grouped_data.reset_index()\n",
    "\n",
    "print(\"\\nAfter reset_index():\")\n",
    "print(reset_data)\n"
   ]
  },
  {
   "cell_type": "markdown",
   "metadata": {},
   "source": [
    "# rename"
   ]
  },
  {
   "cell_type": "code",
   "execution_count": 1,
   "metadata": {},
   "outputs": [
    {
     "name": "stdout",
     "output_type": "stream",
     "text": [
      "   Alpha  Beta  C\n",
      "0      1     2  7\n",
      "1      2     3  8\n",
      "2      3     5  9\n"
     ]
    }
   ],
   "source": [
    "import pandas as pd\n",
    "\n",
    "df=pd.DataFrame({'A':[1,2,3],'B':[2,3,5],'C':[7,8,9]})\n",
    "df=df.rename(columns={\n",
    "    'A':'Alpha',\n",
    "    'B':'Beta'\n",
    "})\n",
    "\n",
    "print(df.head())"
   ]
  },
  {
   "cell_type": "markdown",
   "metadata": {},
   "source": [
    "# datatypes of columns"
   ]
  },
  {
   "cell_type": "code",
   "execution_count": 3,
   "metadata": {},
   "outputs": [
    {
     "name": "stdout",
     "output_type": "stream",
     "text": [
      "Alpha    int64\n",
      "Beta     int64\n",
      "C        int64\n",
      "dtype: object\n"
     ]
    }
   ],
   "source": [
    "print(df.dtypes)"
   ]
  }
 ],
 "metadata": {
  "kernelspec": {
   "display_name": "myenv",
   "language": "python",
   "name": "python3"
  },
  "language_info": {
   "codemirror_mode": {
    "name": "ipython",
    "version": 3
   },
   "file_extension": ".py",
   "mimetype": "text/x-python",
   "name": "python",
   "nbconvert_exporter": "python",
   "pygments_lexer": "ipython3",
   "version": "3.10.14"
  }
 },
 "nbformat": 4,
 "nbformat_minor": 2
}
