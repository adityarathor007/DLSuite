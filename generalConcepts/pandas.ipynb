{
 "cells": [
  {
   "cell_type": "code",
   "execution_count": 2,
   "metadata": {},
   "outputs": [],
   "source": [
    "import pandas as pd"
   ]
  },
  {
   "cell_type": "markdown",
   "metadata": {},
   "source": [
    "## unique"
   ]
  },
  {
   "cell_type": "code",
   "execution_count": 15,
   "metadata": {},
   "outputs": [
    {
     "name": "stdout",
     "output_type": "stream",
     "text": [
      "[1, 2, 3, 6, 8]\n"
     ]
    }
   ],
   "source": [
    "df=pd.DataFrame({'A':[1,1,3,2,6,2,8]})\n",
    "a=df['A'].unique()\n",
    "print(sorted(a))"
   ]
  },
  {
   "cell_type": "markdown",
   "metadata": {},
   "source": [
    "## loc vs iloc\n",
    "\n",
    "- loc gets rows (and/or columns) with a particular labels\n",
    "- iloc gets rows (and/or columns) at integer locations\n",
    "\n"
   ]
  },
  {
   "cell_type": "code",
   "execution_count": 13,
   "metadata": {},
   "outputs": [
    {
     "name": "stdout",
     "output_type": "stream",
     "text": [
      "49    a\n",
      "48    b\n",
      "47    c\n",
      "0     d\n",
      "1     e\n",
      "2     f\n",
      "dtype: object\n"
     ]
    }
   ],
   "source": [
    "s=pd.Series(list(\"abcdef\"),index=[49,48,47,0,1,2])\n",
    "print(s.head(6))\n"
   ]
  },
  {
   "cell_type": "code",
   "execution_count": 12,
   "metadata": {},
   "outputs": [
    {
     "name": "stdout",
     "output_type": "stream",
     "text": [
      "f\n",
      "a\n"
     ]
    }
   ],
   "source": [
    "print(s.loc[2]) #value \n",
    "\n",
    "print(s.iloc[0]) #gets the value at index location 0"
   ]
  },
  {
   "cell_type": "markdown",
   "metadata": {},
   "source": [
    "## explode\n",
    "convert each element of the specified column(s) into row"
   ]
  },
  {
   "cell_type": "code",
   "execution_count": 7,
   "metadata": {},
   "outputs": [
    {
     "data": {
      "text/html": [
       "<div>\n",
       "<style scoped>\n",
       "    .dataframe tbody tr th:only-of-type {\n",
       "        vertical-align: middle;\n",
       "    }\n",
       "\n",
       "    .dataframe tbody tr th {\n",
       "        vertical-align: top;\n",
       "    }\n",
       "\n",
       "    .dataframe thead th {\n",
       "        text-align: right;\n",
       "    }\n",
       "</style>\n",
       "<table border=\"1\" class=\"dataframe\">\n",
       "  <thead>\n",
       "    <tr style=\"text-align: right;\">\n",
       "      <th></th>\n",
       "      <th>Brand</th>\n",
       "      <th>Model</th>\n",
       "      <th>Type</th>\n",
       "    </tr>\n",
       "  </thead>\n",
       "  <tbody>\n",
       "    <tr>\n",
       "      <th>0</th>\n",
       "      <td>Ford</td>\n",
       "      <td>Sierra</td>\n",
       "      <td>2.0GL</td>\n",
       "    </tr>\n",
       "    <tr>\n",
       "      <th>1</th>\n",
       "      <td>Ford</td>\n",
       "      <td>F-150</td>\n",
       "      <td>Raptor</td>\n",
       "    </tr>\n",
       "    <tr>\n",
       "      <th>2</th>\n",
       "      <td>Ford</td>\n",
       "      <td>Mustang</td>\n",
       "      <td>Mach-E</td>\n",
       "    </tr>\n",
       "    <tr>\n",
       "      <th>2</th>\n",
       "      <td>Ford</td>\n",
       "      <td>Mustang</td>\n",
       "      <td>Mach-1</td>\n",
       "    </tr>\n",
       "  </tbody>\n",
       "</table>\n",
       "</div>"
      ],
      "text/plain": [
       "  Brand    Model    Type\n",
       "0  Ford   Sierra   2.0GL\n",
       "1  Ford    F-150  Raptor\n",
       "2  Ford  Mustang  Mach-E\n",
       "2  Ford  Mustang  Mach-1"
      ]
     },
     "execution_count": 7,
     "metadata": {},
     "output_type": "execute_result"
    }
   ],
   "source": [
    "\n",
    "data={\n",
    "    \"Brand\": [\"Ford\",\"Ford\",\"Ford\"],\n",
    "    \"Model\": [\"Sierra\",\"F-150\",\"Mustang\"],\n",
    "    \"Type\": [\"2.0GL\",\"Raptor\",[\"Mach-E\",\"Mach-1\"]]\n",
    "}\n",
    "\n",
    "df=pd.DataFrame(data)\n",
    "new_df=df.explode(\"Type\")  #turn every element in the 'Type' column into a row\n",
    "\n",
    "new_df.head()"
   ]
  },
  {
   "cell_type": "markdown",
   "metadata": {},
   "source": [
    "## apply\n",
    "allows to apply a fucntion along one of the axis of the Df, default 0 i.e index(row) axis"
   ]
  },
  {
   "cell_type": "code",
   "execution_count": 8,
   "metadata": {},
   "outputs": [
    {
     "name": "stdout",
     "output_type": "stream",
     "text": [
      "x    120\n",
      "y    435\n",
      "dtype: int64\n"
     ]
    }
   ],
   "source": [
    "def calc_sum(x):\n",
    "    return x.sum()\n",
    "\n",
    "data={\n",
    "    \"x\":[50,40,30],\n",
    "    \"y\":[300,112,23]\n",
    "}\n",
    "\n",
    "df=pd.DataFrame(data)\n",
    "x=df.apply(calc_sum)\n",
    "\n",
    "\n",
    "print(x)"
   ]
  },
  {
   "cell_type": "code",
   "execution_count": null,
   "metadata": {},
   "outputs": [],
   "source": []
  }
 ],
 "metadata": {
  "kernelspec": {
   "display_name": "torchenv",
   "language": "python",
   "name": "python3"
  },
  "language_info": {
   "codemirror_mode": {
    "name": "ipython",
    "version": 3
   },
   "file_extension": ".py",
   "mimetype": "text/x-python",
   "name": "python",
   "nbconvert_exporter": "python",
   "pygments_lexer": "ipython3",
   "version": "3.8.19"
  }
 },
 "nbformat": 4,
 "nbformat_minor": 2
}
