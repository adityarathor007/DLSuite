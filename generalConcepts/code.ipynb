{
 "cells": [
  {
   "cell_type": "markdown",
   "metadata": {},
   "source": [
    "# Os"
   ]
  },
  {
   "cell_type": "code",
   "execution_count": 19,
   "metadata": {},
   "outputs": [
    {
     "name": "stdout",
     "output_type": "stream",
     "text": [
      "/home/ai_maverick/Desktop/python/DLSuite/generalConcepts\n",
      "['8_cnn.py', 'model.pth', '7_feedForwardNet.py', '4_datasetTransform.py', '9_transfer_learning.py', 'data', '6_activation_fns.py', 'basics.txt', 'checkpoint.pth', 'basics.ipynb', '10_save&loadmodel.py', '5_softmax_ce.py', '2_logistic_reg.py', '1_gradient_torch.py', '3_dataset_dataloader.py', 'runs']\n"
     ]
    }
   ],
   "source": [
    "import os\n",
    "\n",
    "print(os.getcwd())  #get the current directory\n",
    " \n",
    "path=\"../pytorch\"\n",
    "\n",
    "\n",
    "print(os.listdir(path))  #returns the files present in it in form of list"
   ]
  },
  {
   "cell_type": "code",
   "execution_count": null,
   "metadata": {},
   "outputs": [],
   "source": [
    "# os.path\n",
    "path='/home/adi_techbuddy/Desktop/python/DLSuite/Image_Gen/DiffText/model'\n",
    "folder_name=path.split('DiffText',1)[1]\n",
    "\n",
    "for filename in os.listdir('model'):\n",
    "    x='DiffText'+folder_name\n",
    "    modified_path=os.path.join(x,filename)\n",
    "    print(modified_path)"
   ]
  },
  {
   "cell_type": "markdown",
   "metadata": {},
   "source": [
    "## Open \n",
    "opens a file and returns as file object"
   ]
  },
  {
   "cell_type": "code",
   "execution_count": 3,
   "metadata": {},
   "outputs": [
    {
     "name": "stdout",
     "output_type": "stream",
     "text": [
      "pytorch/data\n",
      "\n",
      "ViT/save\n",
      "['d_models\\n', 'TL/mobileNet/datasets\\n', 'TL/YOLO/datasets/\\n', 'TL/YOLO/models/']\n"
     ]
    }
   ],
   "source": [
    "file_path=\"../.gitignore\"\n",
    "f=open(file_path,'r') #other modes are 'a','w','x'\n",
    "\n",
    "print(f.readline())  #reads just the first line\n",
    "\n",
    "print(f.readline(8)) #reads the next line(as 1 time readline called) and till the 8th index\n",
    "\n",
    "\n",
    "print(f.readlines())  #create list with each element of it corresponding to each line\n"
   ]
  },
  {
   "cell_type": "markdown",
   "metadata": {},
   "source": [
    "## Sorting"
   ]
  },
  {
   "cell_type": "code",
   "execution_count": 33,
   "metadata": {},
   "outputs": [
    {
     "name": "stdout",
     "output_type": "stream",
     "text": [
      "['i18', 'i2', 'i5']\n",
      "['i2', 'i5', 'i18']\n",
      "[1, 1221, 'a', 'b', 'z']\n"
     ]
    }
   ],
   "source": [
    "# !pip install natsort\n",
    "from natsort import natsorted\n",
    "\n",
    "list1=[\"i5\",\"i2\",\"i18\"]  \n",
    "\n",
    "# list1.sort() #it sorts the original list and returns None whereas sorted return a new list\n",
    "\n",
    "print(sorted(list1)) # sorting based on lexicographically\n",
    "\n",
    "print(natsorted(list1)) #sorting based on the numeric values rather than string\n",
    "\n",
    "list2=['a','z','b',1,1221]\n",
    "# print(sorted(list2))  #sorting done for same datatype so give error for this\n",
    " \n",
    "print(natsorted(list2))  #natural numbers come before strings"
   ]
  },
  {
   "cell_type": "markdown",
   "metadata": {},
   "source": [
    "## Lambda Function\n",
    "\n",
    "A lambda function can take any number of argument, but have only one expression"
   ]
  },
  {
   "cell_type": "code",
   "execution_count": 6,
   "metadata": {},
   "outputs": [
    {
     "name": "stdout",
     "output_type": "stream",
     "text": [
      "7\n",
      "[2, 4, 6]\n"
     ]
    }
   ],
   "source": [
    "# syntax: lambda arguments : expression\n",
    "\n",
    "x = lambda a, b, c : a + b + c\n",
    "print(x(1,2,4))\n",
    "\n",
    "\n",
    "n = [1, 2, 3, 4, 5, 6]\n",
    "even = filter(lambda x: x % 2 == 0, n)  #in filter providing the condition and the array\n",
    "print(list(even))"
   ]
  },
  {
   "cell_type": "markdown",
   "metadata": {},
   "source": [
    "## List Comprehension\n",
    "\n",
    "Crete new list based from an existing list based on certain condition\n"
   ]
  },
  {
   "cell_type": "code",
   "execution_count": 12,
   "metadata": {},
   "outputs": [
    {
     "name": "stdout",
     "output_type": "stream",
     "text": [
      "['apple', 'banana', 'grapes']\n"
     ]
    }
   ],
   "source": [
    "fruits=[\"apple\",\"banana\",\"cherry\",\"kiwi\",\"grapes\"]\n",
    "newList=[f for f in fruits if \"a\" in f]\n",
    "\n",
    "print(newList)"
   ]
  },
  {
   "cell_type": "markdown",
   "metadata": {},
   "source": [
    "## Split vs Strip\n",
    "\n",
    "split is used for creating list based on certain condition for differentiating the element of the list\n"
   ]
  },
  {
   "cell_type": "code",
   "execution_count": 5,
   "metadata": {},
   "outputs": [
    {
     "name": "stdout",
     "output_type": "stream",
     "text": [
      "['abcd', 'efgh', 'ijkl']\n"
     ]
    }
   ],
   "source": [
    "s = \"abcd efgh ijkl\"\n",
    "\n",
    "# print(set(s.split(' ')))  #return a list of strings, based on s, using ' ' as field seperator and removes the character that is  being used as deimter\n",
    "print(s.split())\n"
   ]
  },
  {
   "cell_type": "code",
   "execution_count": null,
   "metadata": {},
   "outputs": [],
   "source": [
    "s.split() #no argument=None, which really means *ANY* whitespaces, *ANY* length"
   ]
  },
  {
   "cell_type": "code",
   "execution_count": 1,
   "metadata": {},
   "outputs": [
    {
     "name": "stdout",
     "output_type": "stream",
     "text": [
      "Hello,                    ad                                       !\n"
     ]
    }
   ],
   "source": [
    "name=input(\"Enter your name: \")\n",
    "print(f'Hello, {name}!')"
   ]
  },
  {
   "cell_type": "markdown",
   "metadata": {},
   "source": [
    "strip command removes any leading and trailing whitespace \n",
    "You can specify which character(s) to remove, if not, any whitespaces will be removed"
   ]
  },
  {
   "cell_type": "code",
   "execution_count": 2,
   "metadata": {},
   "outputs": [
    {
     "data": {
      "text/plain": [
       "'ad'"
      ]
     },
     "execution_count": 2,
     "metadata": {},
     "output_type": "execute_result"
    }
   ],
   "source": [
    "# remove the whitespaces from the edges\n",
    "name.strip()"
   ]
  },
  {
   "cell_type": "code",
   "execution_count": 7,
   "metadata": {},
   "outputs": [
    {
     "data": {
      "text/plain": [
       "'bcd'"
      ]
     },
     "execution_count": 7,
     "metadata": {},
     "output_type": "execute_result"
    }
   ],
   "source": [
    "s='aebcdaeea'\n",
    "s.strip('ae')  #removes the occurence from the edges"
   ]
  },
  {
   "cell_type": "code",
   "execution_count": 3,
   "metadata": {},
   "outputs": [
    {
     "data": {
      "text/plain": [
       "'a    b c'"
      ]
     },
     "execution_count": 3,
     "metadata": {},
     "output_type": "execute_result"
    }
   ],
   "source": [
    "s='  a    b c      '\n",
    "s.strip()\n"
   ]
  },
  {
   "cell_type": "code",
   "execution_count": 4,
   "metadata": {},
   "outputs": [
    {
     "data": {
      "text/plain": [
       "['a', 'b', 'c']"
      ]
     },
     "execution_count": 4,
     "metadata": {},
     "output_type": "execute_result"
    }
   ],
   "source": [
    "s.split() #by default it is the whitespace on which it seperates"
   ]
  },
  {
   "cell_type": "code",
   "execution_count": null,
   "metadata": {},
   "outputs": [
    {
     "name": "stdout",
     "output_type": "stream",
     "text": [
      "Hello, aditya!\n",
      "banana\n"
     ]
    }
   ],
   "source": [
    "name=input(\"Enter your name: \").strip()\n",
    "print(f'Hello, {name}!')\n",
    "\n",
    "\n",
    "txt = \",,,,,rrttgg.....banana....rrr\"\n",
    "x = txt.strip(\",.grt\")  #Remove the leading and trailing characters\n",
    "print(x)\n"
   ]
  },
  {
   "cell_type": "markdown",
   "metadata": {},
   "source": [
    "## Slice"
   ]
  },
  {
   "cell_type": "code",
   "execution_count": 4,
   "metadata": {},
   "outputs": [
    {
     "name": "stdout",
     "output_type": "stream",
     "text": [
      "('d', 'e')\n"
     ]
    }
   ],
   "source": [
    "a=(\"a\",\"b\",\"c\",\"d\",\"e\",\"f\")\n",
    "x=slice(3,5)\n",
    "print(a[x])"
   ]
  },
  {
   "cell_type": "markdown",
   "metadata": {},
   "source": [
    "## ItemGetter"
   ]
  },
  {
   "cell_type": "code",
   "execution_count": 3,
   "metadata": {},
   "outputs": [
    {
     "name": "stdout",
     "output_type": "stream",
     "text": [
      "(1, 6)\n",
      "(1, 3)\n"
     ]
    }
   ],
   "source": [
    "from operator import itemgetter\n",
    "\n",
    "elements: list[int]=[1,2,3,4,5,6]\n",
    "first_and_last:itemgetter=itemgetter(0,-1)\n",
    "\n",
    "print(first_and_last(elements))\n",
    "\n",
    "\n",
    "items:dict[str,int]={'a':1,'b':2,'c':3,'d':4}\n",
    "a_and_c:itemgetter=itemgetter('a','c')\n",
    "\n",
    "print(a_and_c(items))\n",
    "\n",
    "\n"
   ]
  },
  {
   "cell_type": "code",
   "execution_count": 7,
   "metadata": {},
   "outputs": [
    {
     "name": "stdout",
     "output_type": "stream",
     "text": [
      "95\n"
     ]
    }
   ],
   "source": [
    "import string\n",
    "\n",
    "alphabet=string.digits+string.ascii_lowercase+string.ascii_uppercase+string.punctuation+' '\n",
    "print(len(alphabet))"
   ]
  },
  {
   "cell_type": "markdown",
   "metadata": {},
   "source": [
    "# JSON load\n",
    "Function in Python is used to read and parse a JSON file into a Python object (typically a dictionary or a list).\n",
    "It is part of the json module."
   ]
  },
  {
   "cell_type": "code",
   "execution_count": 25,
   "metadata": {},
   "outputs": [
    {
     "name": "stdout",
     "output_type": "stream",
     "text": [
      "{'name': 'Sneha Attri', 'age': 30, 'isEmployed': True, 'skills': ['JavaScript', 'Python', 'SQL'], 'address': {'street': '123 Elm St', 'city': 'Somewhere', 'zip': '12345'}}\n",
      "Alice\n",
      "Bob\n"
     ]
    }
   ],
   "source": [
    "import json\n",
    "\n",
    "# reading from a file\n",
    "f = open('data.json',)\n",
    "# print(f)\n",
    "data=json.load(f) #load reads json from a file\n",
    "print(data) \n",
    "\n",
    "# reading from a string\n",
    "json_string='[{\"name\":\"Alice\",\"age\":25},{\"name\":\"Bob\",\"age\":12}]'\n",
    "data=json.loads(json_string)  #loads reads json from a string\n",
    "\n",
    "print(data[0]['name'])\n",
    "print(data[1]['name'])\n"
   ]
  },
  {
   "cell_type": "markdown",
   "metadata": {},
   "source": [
    "## .Join()\n",
    "The join() method takes all items in an iterable and joins them into one string."
   ]
  },
  {
   "cell_type": "code",
   "execution_count": 1,
   "metadata": {},
   "outputs": [
    {
     "name": "stdout",
     "output_type": "stream",
     "text": [
      "John_Peter_Vicky\n"
     ]
    }
   ],
   "source": [
    "myTuple = (\"John\", \"Peter\", \"Vicky\")\n",
    "\n",
    "x = \"_\".join(myTuple)\n",
    "\n",
    "print(x)\n"
   ]
  },
  {
   "cell_type": "markdown",
   "metadata": {},
   "source": [
    "## list()\n",
    "The list() function creates a list object."
   ]
  },
  {
   "cell_type": "code",
   "execution_count": 2,
   "metadata": {},
   "outputs": [
    {
     "name": "stdout",
     "output_type": "stream",
     "text": [
      "['T', 'h', 'i', 's', ' ', 'i', 's', ' ', 'a', 'n', ' ', 'a', 'p', 'p', 'l', 'e']\n"
     ]
    }
   ],
   "source": [
    "str=\"This is an apple\"\n",
    "print(list(str))"
   ]
  }
 ],
 "metadata": {
  "kernelspec": {
   "display_name": "myenv",
   "language": "python",
   "name": "python3"
  },
  "language_info": {
   "codemirror_mode": {
    "name": "ipython",
    "version": 3
   },
   "file_extension": ".py",
   "mimetype": "text/x-python",
   "name": "python",
   "nbconvert_exporter": "python",
   "pygments_lexer": "ipython3",
   "version": "3.10.14"
  }
 },
 "nbformat": 4,
 "nbformat_minor": 2
}
